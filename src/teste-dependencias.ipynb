{
 "cells": [
  {
   "cell_type": "markdown",
   "metadata": {},
   "source": [
    "# Teste inicial"
   ]
  },
  {
   "cell_type": "markdown",
   "metadata": {},
   "source": [
    "## Teste das dependências"
   ]
  },
  {
   "cell_type": "markdown",
   "metadata": {},
   "source": [
    "Na celula abaixo são importadas todas as dependências utilizadas na reprodução do experimento. Caso alguma das dependências não seja encontrada, revisar o [item](../README.md#instalação-das-dependências)"
   ]
  },
  {
   "cell_type": "code",
   "execution_count": 1,
   "metadata": {},
   "outputs": [],
   "source": [
    "import pandas\n",
    "import numpy\n",
    "import matplotlib.pyplot\n",
    "import pickle\n",
    "from time import time\n",
    "\n",
    "from sklearn.model_selection import train_test_split\n",
    "\n",
    "from sklearn.ensemble import RandomForestClassifier\n",
    "from sklearn.tree import DecisionTreeClassifier\n",
    "from sklearn.neighbors import KNeighborsClassifier\n",
    "from sklearn.metrics import (f1_score, roc_curve, roc_auc_score)\n",
    "\n",
    "from pymoo.algorithms.moo.nsga2 import NSGA2\n",
    "from pymoo.core.problem import ElementwiseProblem\n",
    "from pymoo.optimize import minimize\n",
    "from pymoo.operators.sampling.rnd import FloatRandomSampling\n",
    "from matplotlib.ticker import StrMethodFormatter"
   ]
  },
  {
   "cell_type": "markdown",
   "metadata": {},
   "source": [
    "Na celula abaixo são verificados se os arquivos necessários para reprodução do experimento estão disponíveis. Caso nenhuma mensagem de erro seja apresentada, todos os arquivos foram encontrados. Caso contrário, há duas situações:\n",
    "\n",
    "* Caso for algum artigo `*.ipynb`, os arquivos devem ser obtidos no repositório do artigo;\n",
    "* Caso seja algum artigo `dumps` ou `npy`, verificar no README a seção [Download de arquivos](../README.md#download-de-arquivos)."
   ]
  },
  {
   "cell_type": "code",
   "execution_count": 2,
   "metadata": {},
   "outputs": [],
   "source": [
    "from pathlib import Path\n",
    "\n",
    "files_to_check = ['../dumps/nsga2-maj-vot-dt.pkl'\n",
    "                    , '../dumps/nsga2-maj-vot-knn.pkl'\n",
    "                    , '../dumps/nsga2-maj-vot-rf.pkl'\n",
    "                    , '../npy/apicalls-x-pca-ordered.npy'\n",
    "                    , '../npy/apicalls-y-full-ordered.npy'\n",
    "                    , '../npy/opcodes-x-pca-ordered.npy'\n",
    "                    , '../npy/opcodes-y-full-ordered.npy'\n",
    "                    , '../npy/perm-x-pca-ordered.npy'\n",
    "                    , '../npy/perm-y-full-ordered.npy'\n",
    "                    , './para-reproducao-experimento/2.1.ml_apicalls_pca.ipynb'\n",
    "                    , './para-reproducao-experimento/2.2.ml_opcodes_pca.ipynb'\n",
    "                    , './para-reproducao-experimento/2.3.ml_permissions_pca.ipynb'\n",
    "                    , './para-reproducao-experimento/3.1.nsga2-voting-dt.ipynb'\n",
    "                    , './para-reproducao-experimento/3.2.nsga2-voting-knn.ipynb'\n",
    "                    , './para-reproducao-experimento/3.3.nsga2-voting-rf.ipynb']\n",
    "\n",
    "for file in files_to_check:\n",
    "    if not Path(file).is_file():\n",
    "        print(f\"Erro: O arquivo '{file}' não existe.\")\n",
    "                    \n"
   ]
  }
 ],
 "metadata": {
  "kernelspec": {
   "display_name": ".venv",
   "language": "python",
   "name": "python3"
  },
  "language_info": {
   "codemirror_mode": {
    "name": "ipython",
    "version": 3
   },
   "file_extension": ".py",
   "mimetype": "text/x-python",
   "name": "python",
   "nbconvert_exporter": "python",
   "pygments_lexer": "ipython3",
   "version": "3.10.12"
  }
 },
 "nbformat": 4,
 "nbformat_minor": 2
}
